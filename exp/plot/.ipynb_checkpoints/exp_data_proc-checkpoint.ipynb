{
 "cells": [
  {
   "cell_type": "code",
   "execution_count": null,
   "id": "ac9a637f",
   "metadata": {
    "scrolled": true
   },
   "outputs": [],
   "source": [
    "import numpy as np\n",
    "from matplotlib import pyplot as plt\n",
    "import matplotlib"
   ]
  },
  {
   "cell_type": "code",
   "execution_count": null,
   "id": "a5e2c49c",
   "metadata": {
    "scrolled": true
   },
   "outputs": [],
   "source": [
    "def read_edge_data(graph, system):\n",
    "    update_data = {}\n",
    "    for sys in system:\n",
    "        data = []\n",
    "        with open(f\"log/{sys}/edge.log\", \"r\") as f: \n",
    "            for line in f.readlines():\n",
    "                data.append(line.strip('\\n'))\n",
    "\n",
    "        d = {}\n",
    "        d = []\n",
    "        for k in data:\n",
    "            if(len(k)==0):\n",
    "                continue\n",
    "            l = k.split(',')\n",
    "            l[1] = int(l[1])\n",
    "            l[4] = int(l[4])\n",
    "            l[5] = float(l[5])\n",
    "            d.append(l)\n",
    "        \n",
    "        update_data[sys] = {}\n",
    "        update_data[sys]['insert'] = {}\n",
    "        update_data[sys]['delete'] = {}\n",
    "        for item in d:\n",
    "            if(item[0]==graph and item[1]==1 ):\n",
    "                update_data[sys][item[3]][item[4]] = item[5]\n",
    "            \n",
    "    return update_data"
   ]
  },
  {
   "cell_type": "code",
   "execution_count": null,
   "id": "3ad912e7",
   "metadata": {
    "scrolled": true
   },
   "outputs": [],
   "source": [
    "upd_system = ['aspen','terrace','teseo','risgraph','livegraph','graphone','llama','stinger','pcsr']"
   ]
  },
  {
   "cell_type": "code",
   "execution_count": null,
   "id": "f4d56e03",
   "metadata": {
    "scrolled": true
   },
   "outputs": [],
   "source": [
    "uniform_edge = read_edge_data(\"uniform-24\", upd_system)\n",
    "orkut_edge = read_edge_data(\"orkut\", upd_system)\n",
    "#orkut_edge\n",
    "# uniform_edge"
   ]
  },
  {
   "cell_type": "code",
   "execution_count": null,
   "id": "0720eb48",
   "metadata": {
    "scrolled": true
   },
   "outputs": [],
   "source": [
    "def plot_edge_line(edge_upd, system, operat, save_fig, lbmap):\n",
    "    x = np.arange(0, 7, 1)\n",
    "    x_labels = ['1e1','1e2','1e3','1e4','1e5','1e6','1e7']\n",
    "\n",
    "    fig = plt.figure(figsize=[8, 6], dpi=300)#\n",
    "    ax = fig.add_subplot(111)\n",
    "    plt.xticks(x, x_labels)\n",
    "    plt.yscale('log')\n",
    "    ax.set_xlabel('Batch size (edges)')\n",
    "    ax.set_ylabel(f'{lbmap[operat]} Throughput (edges/sec)')\n",
    "    ax.grid(axis='y', linestyle='--',zorder=0)\n",
    "\n",
    "    y_update = {}\n",
    "    for sys in system:\n",
    "        y_update[sys] = []\n",
    "        for batch in sorted(edge_upd[sys][operat]):\n",
    "            y_update[sys].append(edge_upd[sys][operat][batch])\n",
    "        if(len(y_update[sys])==0):\n",
    "            for i in range(7):\n",
    "                y_update[sys].append(0.0)\n",
    "        plt.plot(x, y_update[sys],lbmap[sys][1], label=lbmap[sys][0], markerfacecolor='none')\n",
    "\n",
    "    ax.legend(ncol=5, prop={ 'size': 13}, frameon=False, handlelength=1, columnspacing=1.2, loc=[0, 1])\n",
    "    plt.savefig(f'data/{save_fig}')"
   ]
  },
  {
   "cell_type": "code",
   "execution_count": null,
   "id": "d072cdb4",
   "metadata": {
    "scrolled": true
   },
   "outputs": [],
   "source": [
    "sys_map = {'aspen':{0:'Aspen', 1:'^-'},\n",
    "           'terrace':{0:'Terrace',1:'s-'},\n",
    "           'teseo':{0:'Teseo',1:'*-'},\n",
    "           'risgraph':{0:'RisGraph',1:'D-'},\n",
    "           'livegraph':{0:'LiveGraph',1:'o-'},\n",
    "           'graphone':{0:'GraphOne',1:'p-'},\n",
    "           'llama':{0:'LLAMA',1:'x-'},\n",
    "           'stinger':{0:'Stinger',1:'v-'},\n",
    "           'pcsr':{0:'PCSR',1:'.-'},\n",
    "           'ligra':{0:'CSR',1:'d-'},\n",
    "           'insert':'Insertion',\n",
    "           'delete':'Deletion',\n",
    "           'Read':'Edge',\n",
    "           '1-HOP':'1-HOP',\n",
    "           '2-HOP':'2-HOP',\n",
    "           'BFS':'BFS',\n",
    "           'PR':'PR'}"
   ]
  },
  {
   "cell_type": "code",
   "execution_count": null,
   "id": "f0b034c7",
   "metadata": {
    "scrolled": true
   },
   "outputs": [],
   "source": [
    "plot_edge_line(uniform_edge, upd_system, \"insert\", \"insert_uniform.png\", sys_map)"
   ]
  },
  {
   "cell_type": "code",
   "execution_count": null,
   "id": "4396df9d",
   "metadata": {
    "scrolled": true
   },
   "outputs": [],
   "source": [
    "plot_edge_line(orkut_edge, upd_system, \"insert\", \"insert_orkut.png\",sys_map)"
   ]
  },
  {
   "cell_type": "code",
   "execution_count": null,
   "id": "1cc6c6a3",
   "metadata": {
    "scrolled": true
   },
   "outputs": [],
   "source": [
    "plot_edge_line(uniform_edge, upd_system, \"delete\", \"delete_uniform.png\",sys_map)"
   ]
  },
  {
   "cell_type": "code",
   "execution_count": null,
   "id": "af1841e0",
   "metadata": {
    "scrolled": true
   },
   "outputs": [],
   "source": [
    "plot_edge_line(orkut_edge, upd_system, \"delete\", \"delete_orkut.png\",sys_map)"
   ]
  },
  {
   "cell_type": "code",
   "execution_count": null,
   "id": "06f895f5",
   "metadata": {
    "scrolled": true
   },
   "outputs": [],
   "source": [
    "# orkut_thd_edge = read_thd_edge_data(\"orkut\", upd_system)\n",
    "# plot_edge_line(orkut_thd_edge, upd_system, \"insert\", \"insert_multhd_orkut.png\",sys_map)"
   ]
  },
  {
   "cell_type": "code",
   "execution_count": null,
   "id": "36cab5a1",
   "metadata": {
    "scrolled": true
   },
   "outputs": [],
   "source": [
    "# plot_edge_line(orkut_thd_edge, upd_system, \"delete\", \"delete_multhd_orkut.png\",sys_map)"
   ]
  },
  {
   "cell_type": "code",
   "execution_count": null,
   "id": "a6504a95",
   "metadata": {
    "scrolled": true
   },
   "outputs": [],
   "source": [
    "# uniform_thd_edge = read_thd_edge_data(\"uniform-24\", upd_system)\n",
    "# plot_edge_line(uniform_thd_edge, upd_system, \"insert\", \"insert_multhd_uniform.png\",sys_map)"
   ]
  },
  {
   "cell_type": "code",
   "execution_count": null,
   "id": "497cffed",
   "metadata": {
    "scrolled": true
   },
   "outputs": [],
   "source": [
    "# plot_edge_line(uniform_thd_edge, upd_system, \"delete\", \"delete_multhd_uniform.png\",sys_map)"
   ]
  },
  {
   "cell_type": "markdown",
   "id": "6daa2392",
   "metadata": {},
   "source": [
    "### optimal thread"
   ]
  },
  {
   "cell_type": "code",
   "execution_count": null,
   "id": "62c45e6c",
   "metadata": {
    "scrolled": true
   },
   "outputs": [],
   "source": [
    "upd_system = ['aspen','terrace','teseo','risgraph','livegraph','graphone','llama','stinger','pcsr']"
   ]
  },
  {
   "cell_type": "code",
   "execution_count": null,
   "id": "d72dfd0f",
   "metadata": {
    "scrolled": true
   },
   "outputs": [],
   "source": [
    "def read_thd_edge_data(graph, system):\n",
    "    udpate_data = {}\n",
    "    for sys in system:\n",
    "        data = []\n",
    "        with open(f\"log/{sys}/edge.log\", \"r\") as f: \n",
    "            for line in f.readlines():\n",
    "                data.append(line.strip('\\n'))\n",
    "        d = {}\n",
    "        d = []\n",
    "        for k in data:\n",
    "            if(len(k)==0):\n",
    "                continue\n",
    "            l = k.split(',')\n",
    "            l[1] = int(l[1])\n",
    "            l[4] = int(l[4])\n",
    "            l[5] = float(l[5])\n",
    "            d.append(l)\n",
    "        udpate_data[sys] = {}\n",
    "        udpate_data[sys]['insert'] = {}\n",
    "        udpate_data[sys]['delete'] = {}\n",
    "        for item in d:\n",
    "            if(item[0]==graph and (item[1]==16 or (item[1]==12 and sys=='teseo')or (item[1]==1 and sys=='graphone') )):\n",
    "                if(item[3] in  udpate_data[sys]):\n",
    "                    udpate_data[sys][item[3]][item[4]] = item[5]\n",
    "    return udpate_data"
   ]
  },
  {
   "cell_type": "code",
   "execution_count": null,
   "id": "e2778210",
   "metadata": {
    "scrolled": true
   },
   "outputs": [],
   "source": [
    "def plot_edge(edge_upd, system, operat, save_fig, lbmap, name, lnum, offset=-1.2):\n",
    "    x = np.arange(0, 7, 1)\n",
    "    x_labels = [r'$10^1$',r'$10^2$',r'$10^3$',r'$10^4$',r'$10^5$',r'$10^6$',r'$10^7$']\n",
    "\n",
    "    fig, ax = plt.subplots(nrows=1, ncols=2, figsize=(10, 4), dpi=300)\n",
    "    for _ in range(2):\n",
    "        ax[_].set_xticks(x)\n",
    "        ax[_].set_xticklabels(x_labels, fontsize=13)\n",
    "        ax[_].set_yscale('log')\n",
    "        ax[_].tick_params(axis='y', labelsize=13)\n",
    "        ax[_].set_xlabel('Batch size', fontsize=13)\n",
    "        ax[_].grid(axis='y', linestyle='--',zorder=0)\n",
    "        ax[_].set_ylabel(f'{lbmap[operat[_]]} Throughput', fontsize=15)\n",
    "        ax[_].set_title(f'{lbmap[operat[_]]} for {name}', \n",
    "                        fontsize=18, y=-0.3, fontdict={'family':'Times New Roman'})\n",
    "        y_update = {}\n",
    "        for sys in system:\n",
    "            y_update[sys] = []\n",
    "            for batch in sorted(edge_upd[sys][operat[_]]):\n",
    "                y_update[sys].append(edge_upd[sys][operat[_]][batch])\n",
    "            if(len(y_update[sys])==0):\n",
    "                for i in range(7):\n",
    "                    y_update[sys].append(0.0)\n",
    "            ax[_].plot(x, y_update[sys],lbmap[sys][1], label=lbmap[sys][0], markerfacecolor='none')\n",
    "            \n",
    "    plt.subplots_adjust(left=None, bottom=None, right=None, top=None, wspace=0.3, hspace=None)\n",
    "    plt.legend(ncol=lnum, prop={ 'size': 13}, frameon=False, handlelength=1, columnspacing=1.2, loc=[offset, 1])\n",
    "    plt.savefig(f'apdx/{save_fig}',bbox_inches = 'tight')"
   ]
  },
  {
   "cell_type": "code",
   "execution_count": null,
   "id": "3e2e5e43",
   "metadata": {
    "scrolled": true
   },
   "outputs": [],
   "source": [
    "livejournal_thd_edge = read_thd_edge_data(\"livejournal\", upd_system)\n",
    "upd_system = ['aspen','terrace','teseo','risgraph','livegraph','graphone','llama','stinger','pcsr']\n",
    "plot_edge(uniform_thd_edge, upd_system, [\"insert\",\"delete\"], \"livejournal_upd.pdf\",sys_map,'LiveJournal',5)"
   ]
  },
  {
   "cell_type": "code",
   "execution_count": null,
   "id": "04904d7b",
   "metadata": {
    "scrolled": true
   },
   "outputs": [],
   "source": [
    "orkut_thd_edge = read_thd_edge_data(\"orkut\", upd_system)\n",
    "upd_system = ['aspen','terrace','teseo','risgraph','livegraph','graphone','llama','stinger','pcsr']\n",
    "plot_edge(orkut_thd_edge, upd_system, [\"insert\",\"delete\"], \"orkut_upd.pdf\",sys_map,'Orkut',5)"
   ]
  },
  {
   "cell_type": "code",
   "execution_count": null,
   "id": "89d3c57c",
   "metadata": {
    "scrolled": true
   },
   "outputs": [],
   "source": [
    "uniform_thd_edge = read_thd_edge_data(\"uniform-24\", upd_system)\n",
    "upd_system = ['aspen','terrace','teseo','risgraph','livegraph','graphone','llama','stinger','pcsr']\n",
    "plot_edge(uniform_thd_edge, upd_system, [\"insert\",\"delete\"], \"uniform_upd.pdf\",sys_map, \"Uniform-24\",5)"
   ]
  },
  {
   "cell_type": "code",
   "execution_count": null,
   "id": "2b5d7d7c",
   "metadata": {
    "scrolled": true
   },
   "outputs": [],
   "source": [
    "graph500_thd_edge = read_thd_edge_data(\"graph500-24\", upd_system)\n",
    "upd_system = ['aspen','terrace','teseo','risgraph','livegraph','graphone','llama','stinger','pcsr']\n",
    "plot_edge(graph500_thd_edge, upd_system, [\"insert\",\"delete\"], \"graph500_upd.pdf\",sys_map,'Graph500-24',5)"
   ]
  },
  {
   "cell_type": "code",
   "execution_count": null,
   "id": "07bcb12f",
   "metadata": {
    "scrolled": true
   },
   "outputs": [],
   "source": [
    "twitter_thd_edge = read_thd_edge_data(\"twitter\", upd_system)\n",
    "upd_system = ['aspen','terrace','teseo','risgraph','livegraph','llama']\n",
    "plot_edge(twitter_thd_edge, upd_system, [\"insert\",\"delete\"], \"twitter_upd.pdf\",sys_map,'Twitter',6)"
   ]
  },
  {
   "cell_type": "code",
   "execution_count": null,
   "id": "54121d6c",
   "metadata": {
    "scrolled": true
   },
   "outputs": [],
   "source": [
    "friendster_thd_edge = read_thd_edge_data(\"friendster\", upd_system)\n",
    "upd_system = ['aspen','terrace','teseo','risgraph']\n",
    "plot_edge(friendster_thd_edge, upd_system, [\"insert\",\"delete\"], \"friendster_upd.pdf\",sys_map,'Friendster',4, -0.9)"
   ]
  },
  {
   "cell_type": "code",
   "execution_count": null,
   "id": "0763396e",
   "metadata": {
    "scrolled": true
   },
   "outputs": [],
   "source": [
    "def plot_edge_all(edge_data, name, system, operat_S, save_fig, lbmap):\n",
    "    matplotlib.rcParams['pdf.fonttype'] = 42\n",
    "    matplotlib.rcParams['ps.fonttype'] = 42\n",
    "    x = np.arange(0, 7, 1)\n",
    "    x_labels = [r'$10^1$',r'$10^2$',r'$10^3$',r'$10^4$',r'$10^5$',r'$10^6$',r'$10^7$']\n",
    "    iiid = ['(a)','(b)','(c)','(d)']\n",
    "    fig, ax = plt.subplots(nrows=1, ncols=2*len(edge_data), figsize=(10*len(edge_data), 4), dpi=300)\n",
    "    _ = 0\n",
    "    for operat in operat_S:\n",
    "        for data in edge_data:\n",
    "            ax[_].set_xticks(x)\n",
    "            ax[_].set_xticklabels(x_labels, fontsize=13)\n",
    "            ax[_].set_yscale('log')\n",
    "            ax[_].tick_params(axis='y', labelsize=13)\n",
    "            ax[_].set_title(f'{lbmap[operat]} for {name[_%2]}', \n",
    "                            fontsize=18, y=-0.3, fontdict={'family':'Times New Roman'})#,'weight':'bold' {iiid[_]} \n",
    "            ax[_].set_xlabel(f'Batch Size', fontsize=13)\n",
    "            ax[_].grid(axis='y', linestyle='--',zorder=0)\n",
    "#             if(_==0):\n",
    "            ax[_].set_ylabel(f'Throughput', fontsize=15)\n",
    "\n",
    "            y_update = {}\n",
    "            for sys in system:\n",
    "                y_update[sys] = []\n",
    "                for batch in sorted(data[sys][operat]):\n",
    "                    y_update[sys].append(data[sys][operat][batch])\n",
    "                if(len(y_update[sys])==0):\n",
    "                    for i in range(7):\n",
    "                        y_update[sys].append(0.0)\n",
    "                ax[_].plot(x, y_update[sys],lbmap[sys][1], label=lbmap[sys][0], markerfacecolor='none')\n",
    "            _+=1\n",
    "    plt.subplots_adjust(left=None, bottom=None, right=None, top=None, wspace=0.25, hspace=None)\n",
    "    plt.legend(ncol=9, prop={ 'size': 15}, frameon=False, handlelength=1, columnspacing=1.5, loc=[-3.4, 1])# -1.1\n",
    "    plt.savefig(f'data/{save_fig}',bbox_inches = 'tight')"
   ]
  },
  {
   "cell_type": "code",
   "execution_count": null,
   "id": "5e14f16f",
   "metadata": {
    "scrolled": true
   },
   "outputs": [],
   "source": [
    "plot_edge_all([orkut_thd_edge, uniform_thd_edge], ['Orkut','Uniform'], upd_system, [\"insert\",\"delete\"], \"all_multhd.pdf\",sys_map)"
   ]
  },
  {
   "cell_type": "markdown",
   "id": "f563f49d",
   "metadata": {},
   "source": [
    "## Alg"
   ]
  },
  {
   "cell_type": "code",
   "execution_count": null,
   "id": "f0e95b5a",
   "metadata": {
    "scrolled": false
   },
   "outputs": [],
   "source": [
    "def read_alg_data(graph, system):\n",
    "    udpate_data = {}\n",
    "    for sys in system:\n",
    "        data = []\n",
    "        with open(f\"log/{sys}/alg.log\", \"r\") as f: \n",
    "            for line in f.readlines():\n",
    "                data.append(line.strip('\\n'))\n",
    "        d = []\n",
    "        for k in data:\n",
    "            if(len(k)==0):\n",
    "                continue\n",
    "            l = k.split(',')\n",
    "            l[3] = float(l[3])\n",
    "            d.append(l)\n",
    "        udpate_data[sys] = {}\n",
    "        for item in d:\n",
    "            if(item[0]==graph):\n",
    "                udpate_data[sys][item[2]] = item[3]\n",
    "    return udpate_data"
   ]
  },
  {
   "cell_type": "code",
   "execution_count": null,
   "id": "f2622e92",
   "metadata": {
    "scrolled": false
   },
   "outputs": [],
   "source": [
    "alg_system = ['aspen','terrace','teseo','risgraph','livegraph','graphone','llama','stinger','pcsr','ligra']\n",
    "#orkut_alg\n",
    "# uniform_alg"
   ]
  },
  {
   "cell_type": "code",
   "execution_count": null,
   "id": "d96e8ef4",
   "metadata": {
    "scrolled": true
   },
   "outputs": [],
   "source": [
    "def plot_read(alg, name, system, t_alg, save_fig, lbmap):\n",
    "    matplotlib.rcParams['pdf.fonttype'] = 42\n",
    "    matplotlib.rcParams['ps.fonttype'] = 42\n",
    "    x = np.arange(0, len(t_alg), 1)\n",
    "    xlabl = [lbmap[xl] for xl in t_alg]\n",
    "    fig, ax = plt.subplots(nrows=1, ncols=2, figsize=(20, 5), dpi=300)\n",
    "    \n",
    "    for _ in range(0,2):\n",
    "        y_alg = {}\n",
    "        for sys in alg[_]:\n",
    "            y_alg[sys] = []\n",
    "            for a in t_alg:\n",
    "                if a in alg[_][sys]:\n",
    "                    y_alg[sys].append(alg[_][sys][a])\n",
    "                else:\n",
    "                    y_alg[sys].append(0.0)\n",
    "\n",
    "        ax[_].set_xticks(x)\n",
    "        ax[_].tick_params(axis='y', labelsize=15) \n",
    "        ax[_].set_title(f'{name[_]}',fontsize=18, y=-0.25, fontdict={'family':'Times New Roman'})\n",
    "        ax[_].set_xticklabels(xlabl, fontsize=15)\n",
    "        ax[_].set_yscale('log')\n",
    "        #ax[_].set_xlabel(f'{name[_]}', fontsize=15)\n",
    "        ax[_].set_ylabel('Runnig Time (sec)', fontsize=15)\n",
    "        ax[_].grid(axis='y', linestyle='--',zorder=0)\n",
    "        # ax[_].set_ylim(0.05,10)\n",
    "        width = 0.09\n",
    "        for i, sys in enumerate(system):\n",
    "            ax[_].bar(x - (4-i)*width, y_alg[sys], width, edgecolor='black', linewidth=0.7, zorder=100, label=lbmap[sys][0])\n",
    "    \n",
    "    plt.legend(ncol=10, prop={ 'size': 15}, frameon=False, handlelength=1, columnspacing=1.5, loc=[-1.1, 1.05])\n",
    "    plt.savefig(f'apdx/{save_fig}',bbox_inches = 'tight')"
   ]
  },
  {
   "cell_type": "code",
   "execution_count": null,
   "id": "6e6c390e",
   "metadata": {
    "scrolled": true
   },
   "outputs": [],
   "source": [
    "livejournal_alg = read_alg_data('livejournal', alg_system)\n",
    "graph500_alg = read_alg_data('graph500-24', alg_system)\n",
    "plot_read([livejournal_alg, graph500_alg],['LiveJournal', 'Graph500-24'], alg_system,['Read','1-HOP','2-HOP'], \"LG_read.pdf\",sys_map)"
   ]
  },
  {
   "cell_type": "code",
   "execution_count": null,
   "id": "ae419f5a",
   "metadata": {
    "scrolled": true
   },
   "outputs": [],
   "source": [
    "uniform_alg = read_alg_data('uniform-24', alg_system)\n",
    "orkut_alg = read_alg_data('orkut', alg_system)\n",
    "plot_read([orkut_alg, uniform_alg],['Orkut', 'Uniform'], alg_system,['Read','1-HOP','2-HOP'], \"OU_read.pdf\",sys_map)"
   ]
  },
  {
   "cell_type": "code",
   "execution_count": null,
   "id": "bc5a8627",
   "metadata": {
    "scrolled": true
   },
   "outputs": [],
   "source": [
    "def plot_TF_read(alg, name, system, sys_data, t_alg, save_fig, lbmap, cl_map):\n",
    "    matplotlib.rcParams['pdf.fonttype'] = 42\n",
    "    matplotlib.rcParams['ps.fonttype'] = 42\n",
    "    x = np.arange(0, len(t_alg), 1)\n",
    "    xlabl = [lbmap[xl] for xl in t_alg]\n",
    "    fig, ax = plt.subplots(nrows=1, ncols=1, figsize=(10, 4), dpi=300)\n",
    "    y_alg = {}\n",
    "    for sys in sys_data:\n",
    "        y_alg[sys] = []\n",
    "        for a in t_alg:\n",
    "            if a in alg[sys]:\n",
    "                y_alg[sys].append(alg[sys][a])\n",
    "            else:\n",
    "                pass\n",
    "                y_alg[sys].append(0.0)\n",
    "\n",
    "    ax.set_xticks(x)\n",
    "    ax.tick_params(axis='y', labelsize=15) \n",
    "    ax.set_title(f'{name}',fontsize=18, y=-0.25, fontdict={'family':'Times New Roman'})\n",
    "    ax.set_xticklabels(xlabl, fontsize=15)\n",
    "    ax.set_yscale('log')\n",
    "    #ax[_].set_xlabel(f'{name[_]}', fontsize=15)\n",
    "    ax.set_ylabel('Runnig Time (sec)', fontsize=15)\n",
    "    ax.grid(axis='y', linestyle='--',zorder=0)\n",
    "    # ax[_].set_ylim(0.05,10)\n",
    "    width = 0.12\n",
    "    for i, sys in enumerate(sys_data):\n",
    "        ax.bar(x - (len(sys_data)/2-i-1)*width, y_alg[sys], width, color=cl_map[sys],\n",
    "                  edgecolor='black', linewidth=0.7, zorder=100, label=lbmap[sys][0])\n",
    "    \n",
    "    plt.legend(ncol=10, prop={ 'size': 15}, frameon=False, handlelength=1, columnspacing=1.1, loc=[-0, 1.05])\n",
    "    plt.savefig(f'apdx/{save_fig}',bbox_inches = 'tight')"
   ]
  },
  {
   "cell_type": "code",
   "execution_count": null,
   "id": "dcc5b985",
   "metadata": {
    "scrolled": true
   },
   "outputs": [],
   "source": [
    "cl = ['#1f77b4', '#ff7f0e', '#2ca02c', '#d62728', '#9467bd', '#8c564b', '#e377c2', '#7f7f7f', '#bcbd22', '#17becf']\n",
    "sys = ['aspen','terrace','teseo','risgraph','livegraph','graphone','llama','stinger','pcsr','ligra']\n",
    "cl_map = {}\n",
    "for i in range(len(cl)):\n",
    "    cl_map[sys[i]] = cl[i]"
   ]
  },
  {
   "cell_type": "code",
   "execution_count": null,
   "id": "f31a8d8a",
   "metadata": {
    "scrolled": true
   },
   "outputs": [],
   "source": [
    "twitter_alg = read_alg_data('twitter', alg_system)\n",
    "friendster_alg = read_alg_data('friendster', alg_system)\n",
    "sys_data = [['aspen','terrace','teseo','risgraph','livegraph','ligra'],\n",
    "            ['aspen','terrace','teseo','risgraph','ligra']]\n",
    "sys_p = ['aspen','terrace','teseo','risgraph','livegraph','ligra']\n",
    "plot_TF_read(twitter_alg,'Twitter',sys_p,sys_data[0],['Read','1-HOP','2-HOP'], \"twitter_read.pdf\",sys_map,cl_map)"
   ]
  },
  {
   "cell_type": "code",
   "execution_count": null,
   "id": "bec18f76",
   "metadata": {
    "scrolled": true
   },
   "outputs": [],
   "source": [
    "plot_TF_read(friendster_alg,'Friendster',sys_p,sys_data[1],['Read','1-HOP','2-HOP'], \"friendster_read.pdf\",sys_map,cl_map)"
   ]
  },
  {
   "cell_type": "code",
   "execution_count": null,
   "id": "ebb204fb",
   "metadata": {
    "scrolled": false
   },
   "outputs": [],
   "source": [
    "def plot_alg(alg, system, t_alg, save_fig, lbmap):\n",
    "    y_alg = {}\n",
    "    for sys in alg:\n",
    "        y_alg[sys] = []\n",
    "        for a in t_alg:\n",
    "            if a in alg[sys]:\n",
    "                y_alg[sys].append(alg[sys][a])\n",
    "            else:\n",
    "                if(a == 'TC'):\n",
    "                    y_alg[sys].append(10000)\n",
    "                else :\n",
    "                    y_alg[sys].append(0)\n",
    "\n",
    "    x = np.arange(0, len(t_alg), 1)\n",
    "    fig = plt.figure(figsize=[20, 5], dpi=300)\n",
    "    ax = fig.add_subplot(111)\n",
    "    plt.xticks(x, t_alg, fontsize=15)\n",
    "    plt.yticks(fontsize=15)\n",
    "   \n",
    "    plt.yticks([1,10,100,1000,10000],['10^0','10^1','10^2','10^3','>10^4'])\n",
    "    plt.yscale('log')\n",
    "    # ax.set_xlabel('Algorithm',fontsize=15)\n",
    "    ax.set_ylabel('Runnig Time (sec)',fontsize=15)\n",
    "    ax.grid(axis='y', linestyle='--',zorder=0)\n",
    "    width = 0.09\n",
    "    for i, sys in enumerate(system):\n",
    "        ax.bar(x - (4-i)*width, y_alg[sys], width, edgecolor='black', linewidth=0.7, zorder=100, label=lbmap[sys][0])\n",
    "    #ax.set_yticks(y_alg[sys],[r'>10^4',r'>10^4',r'>10^4',r'>10^4',r'>10^4'])\n",
    "    ax.legend(ncol=10, prop={ 'size': 15}, frameon=False, handlelength=1, columnspacing=1.5, loc=[0.05, 1])\n",
    "    plt.savefig(f'apdx/{save_fig}',bbox_inches = 'tight')"
   ]
  },
  {
   "cell_type": "code",
   "execution_count": null,
   "id": "dd5171a6",
   "metadata": {
    "scrolled": true
   },
   "outputs": [],
   "source": [
    "plot_alg(uniform_alg, alg_system,['BFS','PR','SSSP','CC','LP','TC'], \"uniform_alg.pdf\",sys_map)"
   ]
  },
  {
   "cell_type": "code",
   "execution_count": null,
   "id": "5a2847f8",
   "metadata": {
    "scrolled": false
   },
   "outputs": [],
   "source": [
    "plot_alg(livejournal_alg, alg_system,['BFS','PR','SSSP','CC','LP','TC'], \"livejournal_alg.pdf\",sys_map)"
   ]
  },
  {
   "cell_type": "code",
   "execution_count": null,
   "id": "1568df82",
   "metadata": {
    "scrolled": false
   },
   "outputs": [],
   "source": [
    "plot_alg(orkut_alg, alg_system,['BFS','PR','SSSP','CC','LP','TC'], \"orkut_alg.pdf\",sys_map)"
   ]
  },
  {
   "cell_type": "code",
   "execution_count": null,
   "id": "179e5a5f",
   "metadata": {
    "scrolled": true
   },
   "outputs": [],
   "source": [
    "plot_alg(graph500_alg, alg_system,['BFS','PR','SSSP','CC','LP','TC'], \"graph500_alg.pdf\",sys_map)"
   ]
  },
  {
   "cell_type": "code",
   "execution_count": null,
   "id": "8ebc84ce",
   "metadata": {
    "scrolled": true
   },
   "outputs": [],
   "source": [
    "def plot_alg2(alg, system, t_alg, save_fig, lbmap, cl_map, off= 0.2):\n",
    "    y_alg = {}\n",
    "    for sys in alg:\n",
    "        y_alg[sys] = []\n",
    "        for a in t_alg:\n",
    "            if a in alg[sys]:\n",
    "                y_alg[sys].append(alg[sys][a])\n",
    "            else:\n",
    "                if(a == 'TC'):\n",
    "                    y_alg[sys].append(10000)\n",
    "                else :\n",
    "                    y_alg[sys].append(0)\n",
    "\n",
    "    x = np.arange(0, len(t_alg), 1)\n",
    "    fig = plt.figure(figsize=[20, 5], dpi=300)\n",
    "    ax = fig.add_subplot(111)\n",
    "    plt.xticks(x, t_alg, fontsize=15)\n",
    "    plt.yticks(fontsize=15)\n",
    "    plt.yscale('log')\n",
    "    # ax.set_xlabel('Algorithm',fontsize=15)\n",
    "    ax.set_ylabel('Runnig Time (sec)',fontsize=15)\n",
    "    ax.grid(axis='y', linestyle='--',zorder=0)\n",
    "    width = 0.13\n",
    "    for i, sys in enumerate(system):\n",
    "        ax.bar(x - (3-i)*width, y_alg[sys], width, edgecolor='black', color = cl_map[sys],\n",
    "               linewidth=0.7, zorder=100, label=lbmap[sys][0])\n",
    "    ax.legend(ncol=10, prop={ 'size': 15}, frameon=False, handlelength=1, columnspacing=1.5, loc=[off, 1])\n",
    "    plt.savefig(f'apdx/{save_fig}',bbox_inches = 'tight')"
   ]
  },
  {
   "cell_type": "code",
   "execution_count": null,
   "id": "e04c44fe",
   "metadata": {
    "scrolled": true
   },
   "outputs": [],
   "source": [
    "tt_system = ['aspen','terrace','teseo','risgraph','livegraph','ligra']\n",
    "plot_alg2(twitter_alg, tt_system,['BFS','PR','SSSP','CC','LP','TC'], \"twitter_alg.pdf\",sys_map,cl_map)"
   ]
  },
  {
   "cell_type": "code",
   "execution_count": null,
   "id": "f964298b",
   "metadata": {
    "scrolled": true
   },
   "outputs": [],
   "source": [
    "tt_system = ['aspen','terrace','teseo','risgraph','ligra']\n",
    "plot_alg2(friendster_alg, tt_system,['BFS','PR','SSSP','CC','LP','TC'], \"friendster_alg.pdf\",sys_map,cl_map,0.25)"
   ]
  },
  {
   "cell_type": "code",
   "execution_count": null,
   "id": "251a5136",
   "metadata": {
    "scrolled": true
   },
   "outputs": [],
   "source": [
    "def plot_alg_all(alg, name, system, t_alg, save_fig, lbmap):\n",
    "    matplotlib.rcParams['pdf.fonttype'] = 42\n",
    "    matplotlib.rcParams['ps.fonttype'] = 42\n",
    "    fig, ax = plt.subplots(nrows=1, ncols=2, figsize=(20, 4), dpi=300)\n",
    "    \n",
    "    for _ in range(0,2):\n",
    "        y_alg = {}\n",
    "        for sys in alg[_]:\n",
    "            y_alg[sys] = []\n",
    "            for a in t_alg:\n",
    "                if a in alg[_][sys]:\n",
    "                    y_alg[sys].append(alg[_][sys][a])\n",
    "                else:\n",
    "                    y_alg[sys].append(0.0)\n",
    "\n",
    "        x = np.arange(0, len(t_alg), 1)\n",
    "        ax[_].set_xticks(x)\n",
    "        ax[_].set_xticklabels(t_alg, fontsize=15)\n",
    "        ax[_].tick_params(axis='y', labelsize=15) \n",
    "        ax[_].set_yscale('log')\n",
    "        ax[_].set_title(f'{name[_]}', fontsize=18, y=-0.25, fontdict={'family':'Times New Roman'})\n",
    "        # ax.set_xlabel('Algorithm',fontsize=15)\n",
    "        ax[_].set_ylabel('Runnig Time (sec)',fontsize=15)\n",
    "        ax[_].grid(axis='y', linestyle='--',zorder=0)\n",
    "        width = 0.09\n",
    "        for i, sys in enumerate(system):\n",
    "            ax[_].bar(x - (4-i)*width, y_alg[sys], width, edgecolor='black', linewidth=0.7, zorder=100, label=lbmap[sys][0])\n",
    "    \n",
    "    plt.legend(ncol=10, prop={ 'size': 15}, frameon=False, handlelength=1, columnspacing=1.5, loc=[-1.1, 1])\n",
    "    plt.savefig(f'data/{save_fig}',bbox_inches = 'tight')"
   ]
  },
  {
   "cell_type": "code",
   "execution_count": null,
   "id": "dfec7457",
   "metadata": {
    "scrolled": true
   },
   "outputs": [],
   "source": [
    "plot_alg_all([orkut_alg,uniform_alg], ['Orkut', 'Uniform'], alg_system,['BFS','SSSP','PR','CC','LP','TC'], \"alg.pdf\",sys_map)"
   ]
  },
  {
   "cell_type": "markdown",
   "id": "dfddf3ca",
   "metadata": {},
   "source": [
    "## Storage"
   ]
  },
  {
   "cell_type": "code",
   "execution_count": null,
   "id": "3cc34737",
   "metadata": {
    "scrolled": true
   },
   "outputs": [],
   "source": [
    "def read_mem_data(system):\n",
    "    mem_data = {}\n",
    "    for sys in system:\n",
    "        data = []\n",
    "        with open(f\"log/{sys}/mem.log\", \"r\") as f: \n",
    "            for line in f.readlines():\n",
    "                data.append(line.strip('\\n'))\n",
    "        d = []\n",
    "        for k in data:\n",
    "            if(len(k)==0):\n",
    "                continue\n",
    "            l = k.split(',')\n",
    "            l[1] = float(l[1])\n",
    "            d.append(l)\n",
    "        mem_data[sys] = {}\n",
    "        for item in d:\n",
    "            mem_data[sys][item[0]] = item[1]\n",
    "    return mem_data"
   ]
  },
  {
   "cell_type": "code",
   "execution_count": null,
   "id": "c0610ea2",
   "metadata": {
    "scrolled": false
   },
   "outputs": [],
   "source": [
    "sys_storage = ['aspen','terrace','teseo','risgraph','livegraph','graphone','llama','stinger','pcsr','ligra']\n",
    "mem = read_mem_data(alg_system)\n",
    "#mem"
   ]
  },
  {
   "cell_type": "code",
   "execution_count": null,
   "id": "fb9ad3d6",
   "metadata": {
    "scrolled": true
   },
   "outputs": [],
   "source": [
    "def plot_mem(mem, system, save_fig, lbmap):\n",
    "    matplotlib.rcParams['pdf.fonttype'] = 42\n",
    "    matplotlib.rcParams['ps.fonttype'] = 42\n",
    "    y_alg = {}\n",
    "    t_alg = ['livejournal','orkut','uniform-24','graph500-24','twitter','friendster']\n",
    "    l_alg = ['LiveJournal','Orkut','Uniform-24','Graph500-24','Twitter','Friendster']\n",
    "    for sys in mem:\n",
    "        y_alg[sys] = []\n",
    "        for a in t_alg:\n",
    "            if a in mem[sys]:\n",
    "                y_alg[sys].append(mem[sys][a])\n",
    "            else:\n",
    "                y_alg[sys].append(512)\n",
    "\n",
    "    x = np.arange(0, 6, 1)\n",
    "    fig = plt.figure(figsize=[20, 4], dpi=300)\n",
    "    ax = fig.add_subplot(111)\n",
    "    plt.xticks(x, l_alg, fontsize=15)\n",
    "    plt.yticks(fontsize=15)\n",
    "    plt.yscale('log')\n",
    "    # ax.set_xlabel('Algorithm')\n",
    "    ax.set_ylabel('Memory Usage (GB)', fontsize=15)\n",
    "    ax.grid(axis='y', linestyle='--',zorder=0)\n",
    "    width = 0.09\n",
    "    for i, sys in enumerate(system):\n",
    "        ax.bar(x - (4-i)*width, y_alg[sys], width, edgecolor='black', linewidth=0.7, zorder=100, label=lbmap[sys][0])\n",
    "    ax.legend(ncol=10, prop={ 'size': 15}, frameon=False, handlelength=1, columnspacing=1.5, loc=[0.05, 1])\n",
    "    plt.savefig(f'apdx/{save_fig}',bbox_inches = 'tight') "
   ]
  },
  {
   "cell_type": "code",
   "execution_count": null,
   "id": "a45449bf",
   "metadata": {
    "scrolled": false
   },
   "outputs": [],
   "source": [
    "plot_mem(mem, alg_system, \"mem.pdf\", sys_map)"
   ]
  },
  {
   "cell_type": "code",
   "execution_count": null,
   "id": "e9b22d02",
   "metadata": {
    "scrolled": true
   },
   "outputs": [],
   "source": [
    "def plot_mem_frd(mem, system, save_fig, lbmap):\n",
    "    matplotlib.rcParams['pdf.fonttype'] = 42\n",
    "    matplotlib.rcParams['ps.fonttype'] = 42\n",
    "    y_alg = {}\n",
    "    t_alg = ['friendster']\n",
    "    l_alg = ['Friendster']\n",
    "    for sys in mem:\n",
    "        y_alg[sys] = []\n",
    "        for a in t_alg:\n",
    "            if a in mem[sys]:\n",
    "                y_alg[sys].append(mem[sys][a])\n",
    "            else:\n",
    "                y_alg[sys].append(0.0)\n",
    "\n",
    "    x = np.arange(0, 1, 1)\n",
    "    fig = plt.figure(figsize=[20, 4], dpi=300)\n",
    "    ax = fig.add_subplot(111)\n",
    "    plt.xticks(x, l_alg, fontsize=15)\n",
    "    plt.yticks(fontsize=15)\n",
    "    plt.yscale('log')\n",
    "    # ax.set_xlabel('Algorithm')\n",
    "    ax.set_ylabel('Memory Usage (GB)', fontsize=15)\n",
    "    ax.grid(axis='y', linestyle='--',zorder=0)\n",
    "    width = 0.09\n",
    "    for i, sys in enumerate(system):\n",
    "        ax.bar(x - (4-i)*width, y_alg[sys], width, edgecolor='black', linewidth=0.7, zorder=100, label=lbmap[sys][0])\n",
    "    ax.legend(ncol=10, prop={ 'size': 15}, frameon=False, handlelength=1, columnspacing=1.5, loc=[0.05, 1])\n",
    "    plt.savefig(f'apdx/{save_fig}',bbox_inches = 'tight') "
   ]
  },
  {
   "cell_type": "code",
   "execution_count": null,
   "id": "e1c3f39f",
   "metadata": {
    "scrolled": true
   },
   "outputs": [],
   "source": [
    "plot_mem_frd(mem, sys_storage, \"mem_frd.pdf\", sys_map)"
   ]
  },
  {
   "cell_type": "markdown",
   "id": "3b024a40",
   "metadata": {},
   "source": [
    "## Scalability"
   ]
  },
  {
   "cell_type": "markdown",
   "id": "a84cdf7f",
   "metadata": {},
   "source": [
    "### Thread"
   ]
  },
  {
   "cell_type": "code",
   "execution_count": null,
   "id": "75f3b8e8",
   "metadata": {
    "scrolled": true
   },
   "outputs": [],
   "source": [
    "a_system = ['aspen','terrace','teseo','risgraph','livegraph','graphone','llama','stinger','pcsr','ligra']\n",
    "s_system = ['aspen','terrace','teseo','risgraph','livegraph','graphone','llama','stinger','pcsr']\n",
    "t_system = ['aspen','terrace','teseo','risgraph','livegraph','graphone','llama','stinger']"
   ]
  },
  {
   "cell_type": "code",
   "execution_count": null,
   "id": "433c5e3f",
   "metadata": {
    "scrolled": true
   },
   "outputs": [],
   "source": [
    "def read_scala_data(graph, system):\n",
    "    scala_data = {}\n",
    "    for sys in system:\n",
    "        data = []\n",
    "        with open(f\"log/{sys}/scala.log\", \"r\") as f: \n",
    "            for line in f.readlines():\n",
    "                data.append(line.strip('\\n'))\n",
    "\n",
    "        d = []\n",
    "        for k in data:\n",
    "            if(len(k)==0):\n",
    "                continue\n",
    "            l = k.split(',')\n",
    "            l[1] = int(l[1])\n",
    "            if(l[2]=='e'):\n",
    "                l[5] = float(l[5])\n",
    "            else :\n",
    "                l[3] = float(l[3])\n",
    "            d.append(l)\n",
    "        \n",
    "        scala_data[sys] = {}\n",
    "        for item in d:\n",
    "            if(item[0]==graph):\n",
    "                if(item[1] not in scala_data[sys]):\n",
    "                    scala_data[sys][item[1]] = {}\n",
    "                if(item[2]=='e'):\n",
    "                    if(item[3]=='insert' or item[3]=='delete'):\n",
    "                        scala_data[sys][item[1]][item[3]] = item[5]\n",
    "                else:\n",
    "                    scala_data[sys][item[1]][item[2]] = item[3]\n",
    "    return scala_data"
   ]
  },
  {
   "cell_type": "code",
   "execution_count": null,
   "id": "9ff23aa7",
   "metadata": {
    "scrolled": true
   },
   "outputs": [],
   "source": [
    "uniform_scla = read_scala_data(\"uniform-24\", a_system)\n",
    "orkut_scla = read_scala_data(\"orkut\", a_system)\n",
    "# orkut_scla\n",
    "# uniform_scla"
   ]
  },
  {
   "cell_type": "code",
   "execution_count": null,
   "id": "63df333f",
   "metadata": {
    "scrolled": true
   },
   "outputs": [],
   "source": [
    "def plot_scala_thread_e(scala, system, save_fig, lbmap):\n",
    "    matplotlib.rcParams['pdf.fonttype'] = 42\n",
    "    matplotlib.rcParams['ps.fonttype'] = 42\n",
    "    x = np.arange(0, 4, 1)\n",
    "    x_labels = [1,4,8,12]\n",
    "    tst = ['insert','delete']\n",
    "    fig, ax = plt.subplots(nrows=1, ncols=2, figsize=(10, 4), dpi=300)\n",
    "    name = ['Insertion','Deletion']\n",
    "    for _ in range(2):\n",
    "        ax[_].set_xticks(x)\n",
    "        ax[_].tick_params(axis='y', labelsize=13) \n",
    "        ax[_].set_xticklabels(x_labels, fontsize=13)\n",
    "        ax[_].set_title(f'{name[_]}', fontsize=18, y=-0.3, fontdict={'family':'Times New Roman'})\n",
    "        ax[_].set_ylabel('Speedup', fontsize=15)\n",
    "        ax[_].set_xlabel('Thread', fontsize=13)\n",
    "        ax[_].grid(axis='y', linestyle='--',zorder=0)\n",
    "\n",
    "        y_update = {}\n",
    "        for sys in system:\n",
    "            y_update[sys] = []\n",
    "            for thread in x_labels:\n",
    "                if(thread in scala[sys]):\n",
    "                    if(tst[_] in scala[sys][thread]):\n",
    "                        y_update[sys].append(scala[sys][thread][tst[_]])\n",
    "                    else :\n",
    "                        y_update[sys].append(1)\n",
    "                else :\n",
    "                    y_update[sys].append(1)\n",
    "            tmp = y_update[sys][0]\n",
    "            if(tmp !=0):\n",
    "                for iy in range(len(y_update[sys])):\n",
    "                    y_update[sys][iy]/=tmp\n",
    "            ax[_].plot(x, y_update[sys],lbmap[sys][1], label=lbmap[sys][0], markerfacecolor='none')\n",
    "\n",
    "    plt.legend(ncol=4, prop={ 'size': 13}, frameon=False, handlelength=1, columnspacing=1.0, loc=[-0.9, 1.02])\n",
    "    plt.savefig(f\"apdx/{save_fig}_thread.pdf\",bbox_inches = 'tight')"
   ]
  },
  {
   "cell_type": "code",
   "execution_count": null,
   "id": "4f2f4907",
   "metadata": {
    "scrolled": true
   },
   "outputs": [],
   "source": [
    "plot_scala_thread_e(orkut_scla, t_system, \"orkut_e\", sys_map)"
   ]
  },
  {
   "cell_type": "code",
   "execution_count": null,
   "id": "8d4e0492",
   "metadata": {
    "scrolled": false
   },
   "outputs": [],
   "source": [
    "plot_scala_thread_e(uniform_scla, t_system, \"uniform_e\", sys_map)"
   ]
  },
  {
   "cell_type": "code",
   "execution_count": null,
   "id": "18659f9d",
   "metadata": {
    "scrolled": true
   },
   "outputs": [],
   "source": [
    "livejournal_scla = read_scala_data(\"livejournal\", a_system)\n",
    "plot_scala_thread_e(livejournal_scla, t_system, \"livejournal_e\", sys_map)"
   ]
  },
  {
   "cell_type": "code",
   "execution_count": null,
   "id": "171906e2",
   "metadata": {
    "scrolled": true
   },
   "outputs": [],
   "source": [
    "graph500_scla = read_scala_data(\"graph500-24\", a_system)\n",
    "t_system = ['aspen','terrace','teseo','risgraph','livegraph','graphone','stinger']\n",
    "plot_scala_thread_e(graph500_scla, t_system, \"graph500_e\", sys_map)"
   ]
  },
  {
   "cell_type": "code",
   "execution_count": null,
   "id": "58558743",
   "metadata": {
    "scrolled": true
   },
   "outputs": [],
   "source": [
    "def plot_scala_thread_line(scala, system, save_fig, lbmap):\n",
    "    matplotlib.rcParams['pdf.fonttype'] = 42\n",
    "    matplotlib.rcParams['ps.fonttype'] = 42\n",
    "    x = np.arange(0, 4, 1)\n",
    "    x_labels = [1,4,8,12]\n",
    "    \n",
    "    tst_type = ['Read','1-HOP','2-HOP','BFS','PR']\n",
    "    \n",
    "    fig, ax = plt.subplots(nrows=1, ncols=5, figsize=(20, 3), dpi=300)\n",
    "    for _, tst in enumerate(tst_type):\n",
    "        ax[_].set_xticks(x)\n",
    "        ax[_].tick_params(axis='y', labelsize=13) \n",
    "        ax[_].set_xticklabels(x_labels, fontsize=13)\n",
    "        ax[_].set_yscale('log')\n",
    "        \n",
    "        ax[_].set_title(f'{lbmap[tst]}', fontsize=18, y=-0.4, fontdict={'family':'Times New Roman'})\n",
    "        if(_==0):\n",
    "            ax[_].set_ylabel('Running Time (sec)', fontsize=15)\n",
    "        ax[_].set_xlabel('Thread', fontsize=13)\n",
    "\n",
    "        ax[_].grid(axis='y', linestyle='--',zorder=0)\n",
    "\n",
    "        y_update = {}\n",
    "        for sys in system:\n",
    "            y_update[sys] = []\n",
    "            for thread in x_labels:\n",
    "                if(thread in scala[sys]):\n",
    "                    if(tst in scala[sys][thread]):\n",
    "                        y_update[sys].append(scala[sys][thread][tst])\n",
    "                    else :\n",
    "                        y_update[sys].append(0)\n",
    "                else :\n",
    "                    y_update[sys].append(0)\n",
    "            ax[_].plot(x, y_update[sys],lbmap[sys][1], label=lbmap[sys][0], markerfacecolor='none')\n",
    "#     plt.subplots_adjust(left=None, bottom=None, right=None, top=None, wspace=0.25, hspace=None)\n",
    "    plt.legend(ncol=10, prop={ 'size': 15}, frameon=False, handlelength=1, columnspacing=1.2, loc=[-4.2, 1])\n",
    "    plt.savefig(f\"apdx/{save_fig}_thread.pdf\",bbox_inches = 'tight')"
   ]
  },
  {
   "cell_type": "code",
   "execution_count": null,
   "id": "eb9b790a",
   "metadata": {
    "scrolled": true
   },
   "outputs": [],
   "source": [
    "plot_scala_thread_line(uniform_scla, s_system, \"uniform_read\", sys_map)"
   ]
  },
  {
   "cell_type": "code",
   "execution_count": null,
   "id": "85f6018a",
   "metadata": {
    "scrolled": false
   },
   "outputs": [],
   "source": [
    "plot_scala_thread_line(orkut_scla, s_system, \"orkut_read\", sys_map)"
   ]
  },
  {
   "cell_type": "code",
   "execution_count": null,
   "id": "5f3b5453",
   "metadata": {
    "scrolled": true
   },
   "outputs": [],
   "source": [
    "plot_scala_thread_line(livejournal_scla, s_system, \"livejournal_read\", sys_map)"
   ]
  },
  {
   "cell_type": "code",
   "execution_count": null,
   "id": "cf5aae75",
   "metadata": {
    "scrolled": true
   },
   "outputs": [],
   "source": [
    "plot_scala_thread_line(graph500_scla, s_system, \"graph500_read\", sys_map)"
   ]
  },
  {
   "cell_type": "markdown",
   "id": "7c93f4ee",
   "metadata": {},
   "source": [
    "### Data"
   ]
  },
  {
   "cell_type": "code",
   "execution_count": null,
   "id": "58fc8465",
   "metadata": {
    "scrolled": true
   },
   "outputs": [],
   "source": [
    "vset = [20,21,22,23,24,25,26]\n",
    "eset = [10,20,30,40,50,60,70]\n",
    "data_scala = {}\n",
    "\n",
    "for v in vset:\n",
    "    tt = read_scala_data(f\"graph_{v}_30\", a_system)\n",
    "    for sys in tt:\n",
    "        if(sys not in data_scala):\n",
    "            data_scala[sys] = {}\n",
    "        if(16 in tt[sys]):\n",
    "            data_scala[sys][f\"graph_{v}_30\"] = tt[sys][16]\n",
    "        if(sys=='teseo'and (12 in tt[sys])):\n",
    "            if( f\"graph_{v}_30\" not in data_scala[sys]):\n",
    "                data_scala[sys][f\"graph_{v}_30\"] = {}\n",
    "            data_scala[sys][f\"graph_{v}_30\"]['e'] = tt[sys][12]['insert']\n",
    "\n",
    "for e in eset:\n",
    "    tt = read_scala_data(f\"graph_23_{e}\", a_system)\n",
    "    for sys in tt:\n",
    "        if(sys not in data_scala):\n",
    "            data_scala[sys] = {}\n",
    "        if(16 in tt[sys]):\n",
    "            data_scala[sys][f\"graph_23_{e}\"] = tt[sys][16]\n",
    "        if(sys=='teseo'and (12 in tt[sys])):\n",
    "            data_scala[sys][f\"graph_23_{e}\"]['e'] = tt[sys][12]['insert']\n",
    "#data_scala"
   ]
  },
  {
   "cell_type": "code",
   "execution_count": null,
   "id": "824e65a0",
   "metadata": {
    "scrolled": true
   },
   "outputs": [],
   "source": [
    "def plot_scala_data_line(scala, system, save_fig, lbmap):\n",
    "    matplotlib.rcParams['pdf.fonttype'] = 42\n",
    "    matplotlib.rcParams['ps.fonttype'] = 42\n",
    "    x = np.arange(0, 7, 1)\n",
    "    log_x = [20,21,22,23,24,25,26]\n",
    "    x_labels = [r'$2^{20}$',r'$2^{21}$',r'$2^{22}$',r'$2^{23}$',r'$2^{24}$',r'$2^{25}$',r'$2^{26}$']\n",
    "    \n",
    "    tst_type = ['Read','1-HOP','2-HOP','BFS','PR']#,'e'\n",
    "    fig, ax = plt.subplots(nrows=1, ncols=5, figsize=(20, 3), dpi=300)\n",
    "    for _, tst in enumerate(tst_type):\n",
    "        ax[_].set_xticks(x)\n",
    "        ax[_].tick_params(axis='y', labelsize=13) \n",
    "        ax[_].set_xticklabels(x_labels, fontsize=13)\n",
    "        ax[_].set_yscale('log')\n",
    "        ax[_].set_title(f'{lbmap[tst]}', fontsize=18, y=-0.4, fontdict={'family':'Times New Roman'})\n",
    "        if(_==0):\n",
    "            ax[_].set_ylabel('Running Time (sec)', fontsize=15)\n",
    "        ax[_].set_xlabel('Vertex Count', fontsize=13)\n",
    "        ax[_].grid(axis='y', linestyle='--',zorder=0)\n",
    "\n",
    "        y_update = {}\n",
    "        for sys in system:\n",
    "            y_update[sys] = []\n",
    "            for logv in log_x:\n",
    "                if(f\"graph_{logv}_30\" in scala[sys]):\n",
    "                    if(tst in scala[sys][f\"graph_{logv}_30\"]):\n",
    "                        y_update[sys].append(scala[sys][f\"graph_{logv}_30\"][tst])\n",
    "                    else :\n",
    "                        pass\n",
    "                        # y_update[sys].append(0)\n",
    "                else :\n",
    "                    pass\n",
    "                    # y_update[sys].append(0)\n",
    "            xx = np.arange(0, len(y_update[sys]), 1)\n",
    "            ax[_].plot(xx, y_update[sys],lbmap[sys][1], label=lbmap[sys][0], markerfacecolor='none')\n",
    "    plt.subplots_adjust(left=None, bottom=None, right=None, top=None, wspace=0.25, hspace=None)\n",
    "    plt.legend(ncol=10, prop={ 'size': 15}, frameon=False, handlelength=1, columnspacing=1.2, loc=[-4.4, 1])\n",
    "    \n",
    "    plt.savefig(f\"apdx/vertex_\"+save_fig,bbox_inches = 'tight')"
   ]
  },
  {
   "cell_type": "code",
   "execution_count": null,
   "id": "4b9b03d9",
   "metadata": {
    "scrolled": true
   },
   "outputs": [],
   "source": [
    "plot_scala_data_line(data_scala, s_system, \"alg.pdf\", sys_map)"
   ]
  },
  {
   "cell_type": "code",
   "execution_count": null,
   "id": "045f85a1",
   "metadata": {
    "scrolled": true
   },
   "outputs": [],
   "source": [
    "def plot_scala_deg_line(scala, system, save_fig, lbmap):\n",
    "    matplotlib.rcParams['pdf.fonttype'] = 42\n",
    "    matplotlib.rcParams['ps.fonttype'] = 42\n",
    "    x = np.arange(0, 7, 1)\n",
    "    x_labels = [10,20,30,40,50,60,70]\n",
    "    \n",
    "    tst_type = ['Read','1-HOP','2-HOP','BFS','PR']#,'e'\n",
    "    fig, ax = plt.subplots(nrows=1, ncols=5, figsize=(20, 3), dpi=300)\n",
    "    for _, tst in enumerate(tst_type):\n",
    "        ax[_].set_xticks(x)\n",
    "        ax[_].tick_params(axis='y', labelsize=13) \n",
    "        ax[_].set_xticklabels(x_labels, fontsize=13)\n",
    "        ax[_].set_yscale('log')\n",
    "        if(_==0):\n",
    "            ax[_].set_ylabel('Running Time (sec)', fontsize=15)\n",
    "        ax[_].set_xlabel(tst, fontsize=15)\n",
    "        ax[_].grid(axis='y', linestyle='--',zorder=0)\n",
    "\n",
    "        y_update = {}\n",
    "        for sys in system:\n",
    "            y_update[sys] = []\n",
    "            for deg in x_labels:\n",
    "                if(f\"graph_23_{deg}\" in scala[sys]):\n",
    "                    if(tst in scala[sys][f\"graph_23_{deg}\"]):\n",
    "                        y_update[sys].append(scala[sys][f\"graph_23_{deg}\"][tst])\n",
    "                    else :\n",
    "                        pass\n",
    "                        # y_update[sys].append(0)\n",
    "                else :\n",
    "                    pass\n",
    "                    # y_update[sys].append(0)\n",
    "            xx = np.arange(0, len(y_update[sys]), 1)\n",
    "            ax[_].plot(xx, y_update[sys],lbmap[sys][1], label=lbmap[sys][0], markerfacecolor='none')\n",
    "\n",
    "    plt.legend(ncol=10, prop={ 'size': 15}, frameon=False, handlelength=1, columnspacing=1.2, loc=[-4.2, 1])\n",
    "    plt.savefig(f\"apdx/deg_\"+save_fig,bbox_inches = 'tight')"
   ]
  },
  {
   "cell_type": "code",
   "execution_count": null,
   "id": "c7c325e3",
   "metadata": {
    "scrolled": true
   },
   "outputs": [],
   "source": [
    "plot_scala_deg_line(data_scala, s_system, \"alg.pdf\", sys_map)"
   ]
  },
  {
   "cell_type": "code",
   "execution_count": null,
   "id": "4f55487b",
   "metadata": {
    "scrolled": true
   },
   "outputs": [],
   "source": [
    "def plot_sub_scala_deg_line(scala, system, save_fig, lbmap):\n",
    "    matplotlib.rcParams['pdf.fonttype'] = 42\n",
    "    matplotlib.rcParams['ps.fonttype'] = 42\n",
    "    x = np.arange(0, 7, 1)\n",
    "    x_labels = [10,20,30,40,50,60,70]\n",
    "    \n",
    "    tst_type = ['Read','PR']#,'e'\n",
    "    name = ['Edge Read','PR']\n",
    "    fig, ax = plt.subplots(nrows=1, ncols=2, figsize=(10, 4), dpi=300)\n",
    "    for _, tst in enumerate(tst_type):\n",
    "        ax[_].set_xticks(x)\n",
    "        ax[_].tick_params(axis='y', labelsize=13) \n",
    "        ax[_].set_xticklabels(x_labels, fontsize=13)\n",
    "        ax[_].set_yscale('log')\n",
    "        ax[_].set_xlabel(name[_], fontsize=15)\n",
    "        ax[_].grid(axis='y', linestyle='--',zorder=0)\n",
    "        if(_==0):\n",
    "            ax[_].set_ylabel('Running Time (sec)', fontsize=15)\n",
    "        y_update = {}\n",
    "        for sys in system:\n",
    "            y_update[sys] = []\n",
    "            for deg in x_labels:\n",
    "                if(f\"graph_23_{deg}\" in scala[sys]):\n",
    "                    if(tst in scala[sys][f\"graph_23_{deg}\"]):\n",
    "                        y_update[sys].append(scala[sys][f\"graph_23_{deg}\"][tst])\n",
    "                    else :\n",
    "                        pass\n",
    "                        # y_update[sys].append(0)\n",
    "                else :\n",
    "                    pass\n",
    "                    # y_update[sys].append(0)\n",
    "            xx = np.arange(0, len(y_update[sys]), 1)\n",
    "            ax[_].plot(xx, y_update[sys],lbmap[sys][1], label=lbmap[sys][0], markerfacecolor='none')\n",
    "    plt.legend(ncol=5, prop={ 'size': 13}, frameon=False, handlelength=1, columnspacing=1.0, loc=[-1, 1.02])\n",
    "    plt.savefig(f\"scala/sub_deg_\"+save_fig,bbox_inches = 'tight')"
   ]
  },
  {
   "cell_type": "code",
   "execution_count": null,
   "id": "71df8c54",
   "metadata": {
    "scrolled": true
   },
   "outputs": [],
   "source": [
    "plot_sub_scala_deg_line(data_scala, s_system, \"alg.pdf\", sys_map)"
   ]
  },
  {
   "cell_type": "code",
   "execution_count": null,
   "id": "af24a4ae",
   "metadata": {
    "scrolled": true
   },
   "outputs": [],
   "source": [
    "def plot_scala_vtx_e(scala, system, save_fig, lbmap):\n",
    "    x = np.arange(0, 7, 1)\n",
    "    x_labels = [20,21,22,23,24,25,26]\n",
    "    tst = ['insert','delete']\n",
    "    fig, ax = plt.subplots(nrows=1, ncols=2, figsize=(10, 4), dpi=300)\n",
    "    name = ['Insert','Delete']\n",
    "    for _ in range(2):\n",
    "        ax[_].set_xticks(x)\n",
    "        ax[_].set_yscale('log')\n",
    "        ax[_].tick_params(axis='y', labelsize=13) \n",
    "        ax[_].set_xticklabels(x_labels, fontsize=13)\n",
    "        ax[_].set_title(f'{name[_]}', fontsize=18, y=-0.3, fontdict={'family':'Times New Roman'})\n",
    "        ax[_].set_ylabel('Throughput', fontsize=15)\n",
    "        ax[_].set_xlabel('Vertex', fontsize=13)\n",
    "        ax[_].grid(axis='y', linestyle='--',zorder=0)\n",
    "\n",
    "        y_update = {}\n",
    "        for sys in system:\n",
    "            y_update[sys] = []\n",
    "            for logv in x_labels:\n",
    "                if(f\"graph_{logv}_30\" in scala[sys]):\n",
    "                    if(tst[_] in scala[sys][f\"graph_{logv}_30\"]):\n",
    "                        y_update[sys].append(scala[sys][f\"graph_{logv}_30\"][tst[_]])\n",
    "                    else :\n",
    "                        pass\n",
    "                else :\n",
    "                    pass\n",
    "            xx = np.arange(0, len(y_update[sys]), 1)\n",
    "            ax[_].plot(xx, y_update[sys],lbmap[sys][1], label=lbmap[sys][0], markerfacecolor='none')\n",
    "            \n",
    "    plt.legend(ncol=5, prop={ 'size': 13}, frameon=False, handlelength=1, columnspacing=1.0, loc=[-1, 1.02])\n",
    "    plt.savefig(f\"apdx/vertex_\"+save_fig,bbox_inches = 'tight')"
   ]
  },
  {
   "cell_type": "code",
   "execution_count": null,
   "id": "60313f07",
   "metadata": {
    "scrolled": true
   },
   "outputs": [],
   "source": [
    "plot_scala_vtx_e(data_scala, s_system, \"e.pdf\", sys_map)"
   ]
  },
  {
   "cell_type": "code",
   "execution_count": null,
   "id": "a69797b8",
   "metadata": {
    "scrolled": true
   },
   "outputs": [],
   "source": [
    "def plot_scala_deg_e(scala, system, save_fig, lbmap):\n",
    "    x = np.arange(0, 7, 1)\n",
    "    x_labels = [10,20,30,40,50,60,70]\n",
    "    tst = ['insert','delete']\n",
    "    fig, ax = plt.subplots(nrows=1, ncols=2, figsize=(10, 4), dpi=300)\n",
    "    name = ['Insert','Delete']\n",
    "    for _ in range(2):\n",
    "        ax[_].set_xticks(x)\n",
    "        ax[_].set_yscale('log')\n",
    "        ax[_].tick_params(axis='y', labelsize=13) \n",
    "        ax[_].set_xticklabels(x_labels, fontsize=13)\n",
    "        ax[_].set_title(f'{name[_]}', fontsize=18, y=-0.3, fontdict={'family':'Times New Roman'})\n",
    "        ax[_].set_ylabel('Throughput', fontsize=15)\n",
    "        ax[_].set_xlabel('Degree', fontsize=13)\n",
    "        ax[_].grid(axis='y', linestyle='--',zorder=0)\n",
    "\n",
    "        y_update = {}\n",
    "        for sys in system:\n",
    "            y_update[sys] = []\n",
    "            for deg in x_labels:\n",
    "                if(f\"graph_23_{deg}\" in scala[sys]):\n",
    "                    if(tst[_] in scala[sys][f\"graph_23_{deg}\"]):\n",
    "                        y_update[sys].append(scala[sys][f\"graph_23_{deg}\"][tst[_]])\n",
    "                    else :\n",
    "                        pass\n",
    "                else :\n",
    "                    pass\n",
    "            xx = np.arange(0, len(y_update[sys]), 1)\n",
    "            ax[_].plot(xx, y_update[sys],lbmap[sys][1], label=lbmap[sys][0], markerfacecolor='none')\n",
    "            \n",
    "    plt.legend(ncol=5, prop={ 'size': 13}, frameon=False, handlelength=1, columnspacing=1.0, loc=[-1, 1.02])\n",
    "    plt.savefig(f\"apdx/deg_\"+save_fig,bbox_inches = 'tight')"
   ]
  },
  {
   "cell_type": "code",
   "execution_count": null,
   "id": "6423467c",
   "metadata": {
    "scrolled": true
   },
   "outputs": [],
   "source": [
    "plot_scala_deg_e(data_scala, s_system, \"e.pdf\", sys_map)"
   ]
  },
  {
   "cell_type": "code",
   "execution_count": null,
   "id": "1a8f7e0c",
   "metadata": {
    "scrolled": true
   },
   "outputs": [],
   "source": []
  },
  {
   "cell_type": "code",
   "execution_count": null,
   "id": "77486290",
   "metadata": {
    "scrolled": true
   },
   "outputs": [],
   "source": []
  },
  {
   "cell_type": "code",
   "execution_count": null,
   "id": "8701bd04",
   "metadata": {
    "scrolled": true
   },
   "outputs": [],
   "source": []
  },
  {
   "cell_type": "code",
   "execution_count": null,
   "id": "33e3c67d",
   "metadata": {
    "scrolled": true
   },
   "outputs": [],
   "source": []
  },
  {
   "cell_type": "code",
   "execution_count": null,
   "id": "6f54ccda",
   "metadata": {
    "scrolled": true
   },
   "outputs": [],
   "source": []
  },
  {
   "cell_type": "markdown",
   "id": "d09c2b9c",
   "metadata": {},
   "source": [
    "## Other"
   ]
  },
  {
   "cell_type": "code",
   "execution_count": null,
   "id": "fb39ed92",
   "metadata": {
    "scrolled": true
   },
   "outputs": [],
   "source": [
    "def kx(x):\n",
    "    x = round(float(x))\n",
    "    l = len(str(x))\n",
    "    x = round(x/10**(l-1),2)\n",
    "    return str(x)+\"E\"+str(l-1)\n",
    "kx('5.62219e+06')"
   ]
  },
  {
   "cell_type": "code",
   "execution_count": null,
   "id": "dcdd28ef",
   "metadata": {
    "scrolled": true
   },
   "outputs": [],
   "source": [
    "s = [\" ---+ \",\n",
    "\"------\",\n",
    "\" ++  +\",\n",
    "\"+ --- \",\n",
    "\"++++++\",\n",
    "\"--   -\",\n",
    "\"-   +-\",\n",
    "\"+ ++- \",\n",
    "\" + + +\"]\n",
    "t=[]\n",
    "for _ in range(6):\n",
    "    tmp = '$'\n",
    "    for ss in s:\n",
    "        tmp+=ss[_]+'$ & $'\n",
    "    t.append(tmp)\n",
    "t"
   ]
  },
  {
   "cell_type": "code",
   "execution_count": null,
   "id": "710bdc84",
   "metadata": {
    "scrolled": true
   },
   "outputs": [],
   "source": []
  },
  {
   "cell_type": "code",
   "execution_count": null,
   "id": "b9367c1a",
   "metadata": {
    "scrolled": true
   },
   "outputs": [],
   "source": []
  },
  {
   "cell_type": "code",
   "execution_count": null,
   "id": "29305752",
   "metadata": {
    "scrolled": true
   },
   "outputs": [],
   "source": []
  },
  {
   "cell_type": "code",
   "execution_count": null,
   "id": "87062c43",
   "metadata": {
    "scrolled": true
   },
   "outputs": [],
   "source": []
  },
  {
   "cell_type": "code",
   "execution_count": null,
   "id": "9b169c84",
   "metadata": {
    "scrolled": true
   },
   "outputs": [],
   "source": []
  },
  {
   "cell_type": "code",
   "execution_count": null,
   "id": "39d16ffc",
   "metadata": {
    "scrolled": true
   },
   "outputs": [],
   "source": []
  }
 ],
 "metadata": {
  "kernelspec": {
   "display_name": "Python 3",
   "language": "python",
   "name": "python3"
  },
  "language_info": {
   "codemirror_mode": {
    "name": "ipython",
    "version": 3
   },
   "file_extension": ".py",
   "mimetype": "text/x-python",
   "name": "python",
   "nbconvert_exporter": "python",
   "pygments_lexer": "ipython3",
   "version": "3.8.8"
  }
 },
 "nbformat": 4,
 "nbformat_minor": 5
}
